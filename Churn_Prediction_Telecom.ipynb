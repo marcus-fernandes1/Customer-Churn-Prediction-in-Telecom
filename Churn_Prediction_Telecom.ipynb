{
 "cells": [
  {
   "cell_type": "markdown",
   "metadata": {},
   "source": [
    "# Customer Churn Prediction in Telecom Industry\n",
    "\n",
    "Created by **Marcus Fernandes**.\n",
    "- [LinkedIn](https://www.linkedin.com/in/marcus-fernandes1/)\n",
    "- [GitHub](https://github.com/marcus-fernandes1)"
   ]
  },
  {
   "cell_type": "markdown",
   "metadata": {},
   "source": [
    "## Project Overview\n",
    "\n",
    "This project explores customer churn in the telecom sector. The goal is to identify patterns and key indicators of churn using exploratory data analysis (EDA). Insights aim to support customer retention strategies by understanding behavior and risk factors.\n",
    "\n",
    "### Dataset\n",
    "[The dataset](https://www.kaggle.com/datasets/mnassrib/telecom-churn-datasets/data) contains customer details including demographics, services subscribed, tenure, and churn status.\n",
    "\n",
    "### Objectives\n",
    "- Identify variables correlated with churn\n",
    "- Visualize customer behavior and segment patterns\n",
    "- Generate actionable insights for retention efforts"
   ]
  },
  {
   "cell_type": "markdown",
   "metadata": {},
   "source": [
    "## Importing the libraries"
   ]
  },
  {
   "cell_type": "code",
   "execution_count": 1,
   "metadata": {},
   "outputs": [],
   "source": [
    "# importing the necessary libraries\n",
    "import pandas as pd\n",
    "from pandas import set_option\n",
    "import numpy as np\n",
    "import matplotlib.pyplot as plt\n",
    "%matplotlib inline\n",
    "import seaborn as sns\n",
    "import warnings\n",
    "warnings.filterwarnings('ignore')\n",
    "import os"
   ]
  },
  {
   "cell_type": "markdown",
   "metadata": {},
   "source": [
    "## Data overview\n",
    "- The file 'churn-bigml-80.csv' will be used for training the models.\n",
    "- The file 'churn-bigml-20.csv' will be used for testing the models."
   ]
  },
  {
   "cell_type": "code",
   "execution_count": 2,
   "metadata": {},
   "outputs": [],
   "source": [
    "# Loading the data\n",
    "cwd = os.getcwd()\n",
    "churn_train = pd.read_csv(cwd + '/Data/churn-bigml-80.csv')\n",
    "churn_test = pd.read_csv(cwd + '/Data/churn-bigml-20.csv')"
   ]
  },
  {
   "cell_type": "markdown",
   "metadata": {},
   "source": [
    "### View the first 5 rows of the datasets"
   ]
  },
  {
   "cell_type": "code",
   "execution_count": 3,
   "metadata": {},
   "outputs": [
    {
     "data": {
      "application/vnd.microsoft.datawrangler.viewer.v0+json": {
       "columns": [
        {
         "name": "index",
         "rawType": "int64",
         "type": "integer"
        },
        {
         "name": "State",
         "rawType": "object",
         "type": "string"
        },
        {
         "name": "Account length",
         "rawType": "int64",
         "type": "integer"
        },
        {
         "name": "Area code",
         "rawType": "int64",
         "type": "integer"
        },
        {
         "name": "International plan",
         "rawType": "object",
         "type": "string"
        },
        {
         "name": "Voice mail plan",
         "rawType": "object",
         "type": "string"
        },
        {
         "name": "Number vmail messages",
         "rawType": "int64",
         "type": "integer"
        },
        {
         "name": "Total day minutes",
         "rawType": "float64",
         "type": "float"
        },
        {
         "name": "Total day calls",
         "rawType": "int64",
         "type": "integer"
        },
        {
         "name": "Total day charge",
         "rawType": "float64",
         "type": "float"
        },
        {
         "name": "Total eve minutes",
         "rawType": "float64",
         "type": "float"
        },
        {
         "name": "Total eve calls",
         "rawType": "int64",
         "type": "integer"
        },
        {
         "name": "Total eve charge",
         "rawType": "float64",
         "type": "float"
        },
        {
         "name": "Total night minutes",
         "rawType": "float64",
         "type": "float"
        },
        {
         "name": "Total night calls",
         "rawType": "int64",
         "type": "integer"
        },
        {
         "name": "Total night charge",
         "rawType": "float64",
         "type": "float"
        },
        {
         "name": "Total intl minutes",
         "rawType": "float64",
         "type": "float"
        },
        {
         "name": "Total intl calls",
         "rawType": "int64",
         "type": "integer"
        },
        {
         "name": "Total intl charge",
         "rawType": "float64",
         "type": "float"
        },
        {
         "name": "Customer service calls",
         "rawType": "int64",
         "type": "integer"
        },
        {
         "name": "Churn",
         "rawType": "bool",
         "type": "boolean"
        }
       ],
       "ref": "da4e8943-8d80-42ae-9db9-bdc577e96cf6",
       "rows": [
        [
         "0",
         "KS",
         "128",
         "415",
         "No",
         "Yes",
         "25",
         "265.1",
         "110",
         "45.07",
         "197.4",
         "99",
         "16.78",
         "244.7",
         "91",
         "11.01",
         "10.0",
         "3",
         "2.7",
         "1",
         "False"
        ],
        [
         "1",
         "OH",
         "107",
         "415",
         "No",
         "Yes",
         "26",
         "161.6",
         "123",
         "27.47",
         "195.5",
         "103",
         "16.62",
         "254.4",
         "103",
         "11.45",
         "13.7",
         "3",
         "3.7",
         "1",
         "False"
        ],
        [
         "2",
         "NJ",
         "137",
         "415",
         "No",
         "No",
         "0",
         "243.4",
         "114",
         "41.38",
         "121.2",
         "110",
         "10.3",
         "162.6",
         "104",
         "7.32",
         "12.2",
         "5",
         "3.29",
         "0",
         "False"
        ],
        [
         "3",
         "OH",
         "84",
         "408",
         "Yes",
         "No",
         "0",
         "299.4",
         "71",
         "50.9",
         "61.9",
         "88",
         "5.26",
         "196.9",
         "89",
         "8.86",
         "6.6",
         "7",
         "1.78",
         "2",
         "False"
        ],
        [
         "4",
         "OK",
         "75",
         "415",
         "Yes",
         "No",
         "0",
         "166.7",
         "113",
         "28.34",
         "148.3",
         "122",
         "12.61",
         "186.9",
         "121",
         "8.41",
         "10.1",
         "3",
         "2.73",
         "3",
         "False"
        ]
       ],
       "shape": {
        "columns": 20,
        "rows": 5
       }
      },
      "text/html": [
       "<div>\n",
       "<style scoped>\n",
       "    .dataframe tbody tr th:only-of-type {\n",
       "        vertical-align: middle;\n",
       "    }\n",
       "\n",
       "    .dataframe tbody tr th {\n",
       "        vertical-align: top;\n",
       "    }\n",
       "\n",
       "    .dataframe thead th {\n",
       "        text-align: right;\n",
       "    }\n",
       "</style>\n",
       "<table border=\"1\" class=\"dataframe\">\n",
       "  <thead>\n",
       "    <tr style=\"text-align: right;\">\n",
       "      <th></th>\n",
       "      <th>State</th>\n",
       "      <th>Account length</th>\n",
       "      <th>Area code</th>\n",
       "      <th>International plan</th>\n",
       "      <th>Voice mail plan</th>\n",
       "      <th>Number vmail messages</th>\n",
       "      <th>Total day minutes</th>\n",
       "      <th>Total day calls</th>\n",
       "      <th>Total day charge</th>\n",
       "      <th>Total eve minutes</th>\n",
       "      <th>Total eve calls</th>\n",
       "      <th>Total eve charge</th>\n",
       "      <th>Total night minutes</th>\n",
       "      <th>Total night calls</th>\n",
       "      <th>Total night charge</th>\n",
       "      <th>Total intl minutes</th>\n",
       "      <th>Total intl calls</th>\n",
       "      <th>Total intl charge</th>\n",
       "      <th>Customer service calls</th>\n",
       "      <th>Churn</th>\n",
       "    </tr>\n",
       "  </thead>\n",
       "  <tbody>\n",
       "    <tr>\n",
       "      <th>0</th>\n",
       "      <td>KS</td>\n",
       "      <td>128</td>\n",
       "      <td>415</td>\n",
       "      <td>No</td>\n",
       "      <td>Yes</td>\n",
       "      <td>25</td>\n",
       "      <td>265.1</td>\n",
       "      <td>110</td>\n",
       "      <td>45.07</td>\n",
       "      <td>197.4</td>\n",
       "      <td>99</td>\n",
       "      <td>16.78</td>\n",
       "      <td>244.7</td>\n",
       "      <td>91</td>\n",
       "      <td>11.01</td>\n",
       "      <td>10.0</td>\n",
       "      <td>3</td>\n",
       "      <td>2.70</td>\n",
       "      <td>1</td>\n",
       "      <td>False</td>\n",
       "    </tr>\n",
       "    <tr>\n",
       "      <th>1</th>\n",
       "      <td>OH</td>\n",
       "      <td>107</td>\n",
       "      <td>415</td>\n",
       "      <td>No</td>\n",
       "      <td>Yes</td>\n",
       "      <td>26</td>\n",
       "      <td>161.6</td>\n",
       "      <td>123</td>\n",
       "      <td>27.47</td>\n",
       "      <td>195.5</td>\n",
       "      <td>103</td>\n",
       "      <td>16.62</td>\n",
       "      <td>254.4</td>\n",
       "      <td>103</td>\n",
       "      <td>11.45</td>\n",
       "      <td>13.7</td>\n",
       "      <td>3</td>\n",
       "      <td>3.70</td>\n",
       "      <td>1</td>\n",
       "      <td>False</td>\n",
       "    </tr>\n",
       "    <tr>\n",
       "      <th>2</th>\n",
       "      <td>NJ</td>\n",
       "      <td>137</td>\n",
       "      <td>415</td>\n",
       "      <td>No</td>\n",
       "      <td>No</td>\n",
       "      <td>0</td>\n",
       "      <td>243.4</td>\n",
       "      <td>114</td>\n",
       "      <td>41.38</td>\n",
       "      <td>121.2</td>\n",
       "      <td>110</td>\n",
       "      <td>10.30</td>\n",
       "      <td>162.6</td>\n",
       "      <td>104</td>\n",
       "      <td>7.32</td>\n",
       "      <td>12.2</td>\n",
       "      <td>5</td>\n",
       "      <td>3.29</td>\n",
       "      <td>0</td>\n",
       "      <td>False</td>\n",
       "    </tr>\n",
       "    <tr>\n",
       "      <th>3</th>\n",
       "      <td>OH</td>\n",
       "      <td>84</td>\n",
       "      <td>408</td>\n",
       "      <td>Yes</td>\n",
       "      <td>No</td>\n",
       "      <td>0</td>\n",
       "      <td>299.4</td>\n",
       "      <td>71</td>\n",
       "      <td>50.90</td>\n",
       "      <td>61.9</td>\n",
       "      <td>88</td>\n",
       "      <td>5.26</td>\n",
       "      <td>196.9</td>\n",
       "      <td>89</td>\n",
       "      <td>8.86</td>\n",
       "      <td>6.6</td>\n",
       "      <td>7</td>\n",
       "      <td>1.78</td>\n",
       "      <td>2</td>\n",
       "      <td>False</td>\n",
       "    </tr>\n",
       "    <tr>\n",
       "      <th>4</th>\n",
       "      <td>OK</td>\n",
       "      <td>75</td>\n",
       "      <td>415</td>\n",
       "      <td>Yes</td>\n",
       "      <td>No</td>\n",
       "      <td>0</td>\n",
       "      <td>166.7</td>\n",
       "      <td>113</td>\n",
       "      <td>28.34</td>\n",
       "      <td>148.3</td>\n",
       "      <td>122</td>\n",
       "      <td>12.61</td>\n",
       "      <td>186.9</td>\n",
       "      <td>121</td>\n",
       "      <td>8.41</td>\n",
       "      <td>10.1</td>\n",
       "      <td>3</td>\n",
       "      <td>2.73</td>\n",
       "      <td>3</td>\n",
       "      <td>False</td>\n",
       "    </tr>\n",
       "  </tbody>\n",
       "</table>\n",
       "</div>"
      ],
      "text/plain": [
       "  State  Account length  Area code International plan Voice mail plan  \\\n",
       "0    KS             128        415                 No             Yes   \n",
       "1    OH             107        415                 No             Yes   \n",
       "2    NJ             137        415                 No              No   \n",
       "3    OH              84        408                Yes              No   \n",
       "4    OK              75        415                Yes              No   \n",
       "\n",
       "   Number vmail messages  Total day minutes  Total day calls  \\\n",
       "0                     25              265.1              110   \n",
       "1                     26              161.6              123   \n",
       "2                      0              243.4              114   \n",
       "3                      0              299.4               71   \n",
       "4                      0              166.7              113   \n",
       "\n",
       "   Total day charge  Total eve minutes  Total eve calls  Total eve charge  \\\n",
       "0             45.07              197.4               99             16.78   \n",
       "1             27.47              195.5              103             16.62   \n",
       "2             41.38              121.2              110             10.30   \n",
       "3             50.90               61.9               88              5.26   \n",
       "4             28.34              148.3              122             12.61   \n",
       "\n",
       "   Total night minutes  Total night calls  Total night charge  \\\n",
       "0                244.7                 91               11.01   \n",
       "1                254.4                103               11.45   \n",
       "2                162.6                104                7.32   \n",
       "3                196.9                 89                8.86   \n",
       "4                186.9                121                8.41   \n",
       "\n",
       "   Total intl minutes  Total intl calls  Total intl charge  \\\n",
       "0                10.0                 3               2.70   \n",
       "1                13.7                 3               3.70   \n",
       "2                12.2                 5               3.29   \n",
       "3                 6.6                 7               1.78   \n",
       "4                10.1                 3               2.73   \n",
       "\n",
       "   Customer service calls  Churn  \n",
       "0                       1  False  \n",
       "1                       1  False  \n",
       "2                       0  False  \n",
       "3                       2  False  \n",
       "4                       3  False  "
      ]
     },
     "execution_count": 3,
     "metadata": {},
     "output_type": "execute_result"
    }
   ],
   "source": [
    "churn_train.head()"
   ]
  },
  {
   "cell_type": "code",
   "execution_count": 4,
   "metadata": {},
   "outputs": [
    {
     "data": {
      "application/vnd.microsoft.datawrangler.viewer.v0+json": {
       "columns": [
        {
         "name": "index",
         "rawType": "int64",
         "type": "integer"
        },
        {
         "name": "State",
         "rawType": "object",
         "type": "string"
        },
        {
         "name": "Account length",
         "rawType": "int64",
         "type": "integer"
        },
        {
         "name": "Area code",
         "rawType": "int64",
         "type": "integer"
        },
        {
         "name": "International plan",
         "rawType": "object",
         "type": "string"
        },
        {
         "name": "Voice mail plan",
         "rawType": "object",
         "type": "string"
        },
        {
         "name": "Number vmail messages",
         "rawType": "int64",
         "type": "integer"
        },
        {
         "name": "Total day minutes",
         "rawType": "float64",
         "type": "float"
        },
        {
         "name": "Total day calls",
         "rawType": "int64",
         "type": "integer"
        },
        {
         "name": "Total day charge",
         "rawType": "float64",
         "type": "float"
        },
        {
         "name": "Total eve minutes",
         "rawType": "float64",
         "type": "float"
        },
        {
         "name": "Total eve calls",
         "rawType": "int64",
         "type": "integer"
        },
        {
         "name": "Total eve charge",
         "rawType": "float64",
         "type": "float"
        },
        {
         "name": "Total night minutes",
         "rawType": "float64",
         "type": "float"
        },
        {
         "name": "Total night calls",
         "rawType": "int64",
         "type": "integer"
        },
        {
         "name": "Total night charge",
         "rawType": "float64",
         "type": "float"
        },
        {
         "name": "Total intl minutes",
         "rawType": "float64",
         "type": "float"
        },
        {
         "name": "Total intl calls",
         "rawType": "int64",
         "type": "integer"
        },
        {
         "name": "Total intl charge",
         "rawType": "float64",
         "type": "float"
        },
        {
         "name": "Customer service calls",
         "rawType": "int64",
         "type": "integer"
        },
        {
         "name": "Churn",
         "rawType": "bool",
         "type": "boolean"
        }
       ],
       "ref": "80128520-92ee-4d40-8a48-2976e57519c6",
       "rows": [
        [
         "0",
         "LA",
         "117",
         "408",
         "No",
         "No",
         "0",
         "184.5",
         "97",
         "31.37",
         "351.6",
         "80",
         "29.89",
         "215.8",
         "90",
         "9.71",
         "8.7",
         "4",
         "2.35",
         "1",
         "False"
        ],
        [
         "1",
         "IN",
         "65",
         "415",
         "No",
         "No",
         "0",
         "129.1",
         "137",
         "21.95",
         "228.5",
         "83",
         "19.42",
         "208.8",
         "111",
         "9.4",
         "12.7",
         "6",
         "3.43",
         "4",
         "True"
        ],
        [
         "2",
         "NY",
         "161",
         "415",
         "No",
         "No",
         "0",
         "332.9",
         "67",
         "56.59",
         "317.8",
         "97",
         "27.01",
         "160.6",
         "128",
         "7.23",
         "5.4",
         "9",
         "1.46",
         "4",
         "True"
        ],
        [
         "3",
         "SC",
         "111",
         "415",
         "No",
         "No",
         "0",
         "110.4",
         "103",
         "18.77",
         "137.3",
         "102",
         "11.67",
         "189.6",
         "105",
         "8.53",
         "7.7",
         "6",
         "2.08",
         "2",
         "False"
        ],
        [
         "4",
         "HI",
         "49",
         "510",
         "No",
         "No",
         "0",
         "119.3",
         "117",
         "20.28",
         "215.1",
         "109",
         "18.28",
         "178.7",
         "90",
         "8.04",
         "11.1",
         "1",
         "3.0",
         "1",
         "False"
        ]
       ],
       "shape": {
        "columns": 20,
        "rows": 5
       }
      },
      "text/html": [
       "<div>\n",
       "<style scoped>\n",
       "    .dataframe tbody tr th:only-of-type {\n",
       "        vertical-align: middle;\n",
       "    }\n",
       "\n",
       "    .dataframe tbody tr th {\n",
       "        vertical-align: top;\n",
       "    }\n",
       "\n",
       "    .dataframe thead th {\n",
       "        text-align: right;\n",
       "    }\n",
       "</style>\n",
       "<table border=\"1\" class=\"dataframe\">\n",
       "  <thead>\n",
       "    <tr style=\"text-align: right;\">\n",
       "      <th></th>\n",
       "      <th>State</th>\n",
       "      <th>Account length</th>\n",
       "      <th>Area code</th>\n",
       "      <th>International plan</th>\n",
       "      <th>Voice mail plan</th>\n",
       "      <th>Number vmail messages</th>\n",
       "      <th>Total day minutes</th>\n",
       "      <th>Total day calls</th>\n",
       "      <th>Total day charge</th>\n",
       "      <th>Total eve minutes</th>\n",
       "      <th>Total eve calls</th>\n",
       "      <th>Total eve charge</th>\n",
       "      <th>Total night minutes</th>\n",
       "      <th>Total night calls</th>\n",
       "      <th>Total night charge</th>\n",
       "      <th>Total intl minutes</th>\n",
       "      <th>Total intl calls</th>\n",
       "      <th>Total intl charge</th>\n",
       "      <th>Customer service calls</th>\n",
       "      <th>Churn</th>\n",
       "    </tr>\n",
       "  </thead>\n",
       "  <tbody>\n",
       "    <tr>\n",
       "      <th>0</th>\n",
       "      <td>LA</td>\n",
       "      <td>117</td>\n",
       "      <td>408</td>\n",
       "      <td>No</td>\n",
       "      <td>No</td>\n",
       "      <td>0</td>\n",
       "      <td>184.5</td>\n",
       "      <td>97</td>\n",
       "      <td>31.37</td>\n",
       "      <td>351.6</td>\n",
       "      <td>80</td>\n",
       "      <td>29.89</td>\n",
       "      <td>215.8</td>\n",
       "      <td>90</td>\n",
       "      <td>9.71</td>\n",
       "      <td>8.7</td>\n",
       "      <td>4</td>\n",
       "      <td>2.35</td>\n",
       "      <td>1</td>\n",
       "      <td>False</td>\n",
       "    </tr>\n",
       "    <tr>\n",
       "      <th>1</th>\n",
       "      <td>IN</td>\n",
       "      <td>65</td>\n",
       "      <td>415</td>\n",
       "      <td>No</td>\n",
       "      <td>No</td>\n",
       "      <td>0</td>\n",
       "      <td>129.1</td>\n",
       "      <td>137</td>\n",
       "      <td>21.95</td>\n",
       "      <td>228.5</td>\n",
       "      <td>83</td>\n",
       "      <td>19.42</td>\n",
       "      <td>208.8</td>\n",
       "      <td>111</td>\n",
       "      <td>9.40</td>\n",
       "      <td>12.7</td>\n",
       "      <td>6</td>\n",
       "      <td>3.43</td>\n",
       "      <td>4</td>\n",
       "      <td>True</td>\n",
       "    </tr>\n",
       "    <tr>\n",
       "      <th>2</th>\n",
       "      <td>NY</td>\n",
       "      <td>161</td>\n",
       "      <td>415</td>\n",
       "      <td>No</td>\n",
       "      <td>No</td>\n",
       "      <td>0</td>\n",
       "      <td>332.9</td>\n",
       "      <td>67</td>\n",
       "      <td>56.59</td>\n",
       "      <td>317.8</td>\n",
       "      <td>97</td>\n",
       "      <td>27.01</td>\n",
       "      <td>160.6</td>\n",
       "      <td>128</td>\n",
       "      <td>7.23</td>\n",
       "      <td>5.4</td>\n",
       "      <td>9</td>\n",
       "      <td>1.46</td>\n",
       "      <td>4</td>\n",
       "      <td>True</td>\n",
       "    </tr>\n",
       "    <tr>\n",
       "      <th>3</th>\n",
       "      <td>SC</td>\n",
       "      <td>111</td>\n",
       "      <td>415</td>\n",
       "      <td>No</td>\n",
       "      <td>No</td>\n",
       "      <td>0</td>\n",
       "      <td>110.4</td>\n",
       "      <td>103</td>\n",
       "      <td>18.77</td>\n",
       "      <td>137.3</td>\n",
       "      <td>102</td>\n",
       "      <td>11.67</td>\n",
       "      <td>189.6</td>\n",
       "      <td>105</td>\n",
       "      <td>8.53</td>\n",
       "      <td>7.7</td>\n",
       "      <td>6</td>\n",
       "      <td>2.08</td>\n",
       "      <td>2</td>\n",
       "      <td>False</td>\n",
       "    </tr>\n",
       "    <tr>\n",
       "      <th>4</th>\n",
       "      <td>HI</td>\n",
       "      <td>49</td>\n",
       "      <td>510</td>\n",
       "      <td>No</td>\n",
       "      <td>No</td>\n",
       "      <td>0</td>\n",
       "      <td>119.3</td>\n",
       "      <td>117</td>\n",
       "      <td>20.28</td>\n",
       "      <td>215.1</td>\n",
       "      <td>109</td>\n",
       "      <td>18.28</td>\n",
       "      <td>178.7</td>\n",
       "      <td>90</td>\n",
       "      <td>8.04</td>\n",
       "      <td>11.1</td>\n",
       "      <td>1</td>\n",
       "      <td>3.00</td>\n",
       "      <td>1</td>\n",
       "      <td>False</td>\n",
       "    </tr>\n",
       "  </tbody>\n",
       "</table>\n",
       "</div>"
      ],
      "text/plain": [
       "  State  Account length  Area code International plan Voice mail plan  \\\n",
       "0    LA             117        408                 No              No   \n",
       "1    IN              65        415                 No              No   \n",
       "2    NY             161        415                 No              No   \n",
       "3    SC             111        415                 No              No   \n",
       "4    HI              49        510                 No              No   \n",
       "\n",
       "   Number vmail messages  Total day minutes  Total day calls  \\\n",
       "0                      0              184.5               97   \n",
       "1                      0              129.1              137   \n",
       "2                      0              332.9               67   \n",
       "3                      0              110.4              103   \n",
       "4                      0              119.3              117   \n",
       "\n",
       "   Total day charge  Total eve minutes  Total eve calls  Total eve charge  \\\n",
       "0             31.37              351.6               80             29.89   \n",
       "1             21.95              228.5               83             19.42   \n",
       "2             56.59              317.8               97             27.01   \n",
       "3             18.77              137.3              102             11.67   \n",
       "4             20.28              215.1              109             18.28   \n",
       "\n",
       "   Total night minutes  Total night calls  Total night charge  \\\n",
       "0                215.8                 90                9.71   \n",
       "1                208.8                111                9.40   \n",
       "2                160.6                128                7.23   \n",
       "3                189.6                105                8.53   \n",
       "4                178.7                 90                8.04   \n",
       "\n",
       "   Total intl minutes  Total intl calls  Total intl charge  \\\n",
       "0                 8.7                 4               2.35   \n",
       "1                12.7                 6               3.43   \n",
       "2                 5.4                 9               1.46   \n",
       "3                 7.7                 6               2.08   \n",
       "4                11.1                 1               3.00   \n",
       "\n",
       "   Customer service calls  Churn  \n",
       "0                       1  False  \n",
       "1                       4   True  \n",
       "2                       4   True  \n",
       "3                       2  False  \n",
       "4                       1  False  "
      ]
     },
     "execution_count": 4,
     "metadata": {},
     "output_type": "execute_result"
    }
   ],
   "source": [
    "churn_test.head()"
   ]
  },
  {
   "cell_type": "markdown",
   "metadata": {},
   "source": [
    "### Understand the features"
   ]
  },
  {
   "cell_type": "code",
   "execution_count": 5,
   "metadata": {},
   "outputs": [
    {
     "name": "stdout",
     "output_type": "stream",
     "text": [
      "['State', 'Account length', 'Area code', 'International plan', 'Voice mail plan', 'Number vmail messages', 'Total day minutes', 'Total day calls', 'Total day charge', 'Total eve minutes', 'Total eve calls', 'Total eve charge', 'Total night minutes', 'Total night calls', 'Total night charge', 'Total intl minutes', 'Total intl calls', 'Total intl charge', 'Customer service calls', 'Churn']\n"
     ]
    }
   ],
   "source": [
    "print(churn_train.columns.tolist())"
   ]
  },
  {
   "cell_type": "markdown",
   "metadata": {},
   "source": [
    "| Feature                | Description                                                   |\n",
    "|------------------------|---------------------------------------------------------------|\n",
    "| State                  | The US state where the phone plan is hired.                   |\n",
    "| Account length         | The number of months the customer has stayed with the company.|\n",
    "| Area code              | A set of digits that identifies a particular telephone service area within a state. |\n",
    "| International plan     | Identifies if the particular customer makes calls outside the US. |\n",
    "| Voice mail plan        | Identifies if the particular customer uses the voice messages service. |\n",
    "| Number vmail messages  | Number of voice mail messages.                                |\n",
    "| Total day minutes      | Total daily call minutes for the particular customer.         |\n",
    "| Total day calls        | Total daily calls for the particular customer.                |\n",
    "| Total day charge       | Total daily charged fees for the particular customer.         |\n",
    "| Total eve minutes      | Total call minutes made in the evening.                       |\n",
    "| Total eve calls        | Total number of calls made in the evening.                    |\n",
    "| Total eve charge       | Total charged fees for calls made in the evening.             |\n",
    "| Total night minutes    | Total call minutes made in the night.                         |\n",
    "| Total night calls      | Total number of calls made in the night.                      |\n",
    "| Total night charge     | Total charged fees for calls made in the night.               |\n",
    "| Total intl minutes     | Total international call minutes made.                        |\n",
    "| Total intl calls       | Total number of international calls.                          |\n",
    "| Total intl charge      | Total charged fees for international calls.                   |\n",
    "| Customer service calls | Total number of customer service calls.                       |\n",
    "| Churn                  | If the client churned or not.                                 |\n"
   ]
  },
  {
   "cell_type": "code",
   "execution_count": 6,
   "metadata": {},
   "outputs": [
    {
     "name": "stdout",
     "output_type": "stream",
     "text": [
      "The tables are equal in terms of number and order of features.\n"
     ]
    }
   ],
   "source": [
    "if not churn_train.columns.tolist() == churn_test.columns.tolist():\n",
    "    print('The tables are not equal in terms of number and order of features.')\n",
    "else:\n",
    "    print('The tables are equal in terms of number and order of features.')"
   ]
  },
  {
   "cell_type": "markdown",
   "metadata": {},
   "source": [
    "The column names are standardized."
   ]
  },
  {
   "cell_type": "markdown",
   "metadata": {},
   "source": [
    "### Understand the shape of the dataset."
   ]
  },
  {
   "cell_type": "code",
   "execution_count": 7,
   "metadata": {},
   "outputs": [
    {
     "name": "stdout",
     "output_type": "stream",
     "text": [
      "Train dataset\n",
      "Number of rows:  2666\n",
      "Number of features (columns):  20\n",
      "\n",
      "Test dataset\n",
      "Number of rows:  667\n",
      "Number of features (columns):  20\n"
     ]
    }
   ],
   "source": [
    "print('Train dataset')\n",
    "print('Number of rows: ', churn_train.shape[0])\n",
    "print('Number of features (columns): ', churn_train.shape[1])\n",
    "\n",
    "print('\\nTest dataset')\n",
    "print('Number of rows: ', churn_test.shape[0])\n",
    "print('Number of features (columns): ', churn_test.shape[1])"
   ]
  },
  {
   "cell_type": "markdown",
   "metadata": {},
   "source": [
    "### Check and correct the data types of the columns for the dataset."
   ]
  },
  {
   "cell_type": "code",
   "execution_count": 8,
   "metadata": {},
   "outputs": [
    {
     "data": {
      "application/vnd.microsoft.datawrangler.viewer.v0+json": {
       "columns": [
        {
         "name": "index",
         "rawType": "object",
         "type": "string"
        },
        {
         "name": "0",
         "rawType": "object",
         "type": "unknown"
        }
       ],
       "ref": "78e27e9b-b726-4dfa-8574-288c6fc46693",
       "rows": [
        [
         "State",
         "object"
        ],
        [
         "Account length",
         "int64"
        ],
        [
         "Area code",
         "int64"
        ],
        [
         "International plan",
         "object"
        ],
        [
         "Voice mail plan",
         "object"
        ],
        [
         "Number vmail messages",
         "int64"
        ],
        [
         "Total day minutes",
         "float64"
        ],
        [
         "Total day calls",
         "int64"
        ],
        [
         "Total day charge",
         "float64"
        ],
        [
         "Total eve minutes",
         "float64"
        ],
        [
         "Total eve calls",
         "int64"
        ],
        [
         "Total eve charge",
         "float64"
        ],
        [
         "Total night minutes",
         "float64"
        ],
        [
         "Total night calls",
         "int64"
        ],
        [
         "Total night charge",
         "float64"
        ],
        [
         "Total intl minutes",
         "float64"
        ],
        [
         "Total intl calls",
         "int64"
        ],
        [
         "Total intl charge",
         "float64"
        ],
        [
         "Customer service calls",
         "int64"
        ],
        [
         "Churn",
         "bool"
        ]
       ],
       "shape": {
        "columns": 1,
        "rows": 20
       }
      },
      "text/plain": [
       "State                      object\n",
       "Account length              int64\n",
       "Area code                   int64\n",
       "International plan         object\n",
       "Voice mail plan            object\n",
       "Number vmail messages       int64\n",
       "Total day minutes         float64\n",
       "Total day calls             int64\n",
       "Total day charge          float64\n",
       "Total eve minutes         float64\n",
       "Total eve calls             int64\n",
       "Total eve charge          float64\n",
       "Total night minutes       float64\n",
       "Total night calls           int64\n",
       "Total night charge        float64\n",
       "Total intl minutes        float64\n",
       "Total intl calls            int64\n",
       "Total intl charge         float64\n",
       "Customer service calls      int64\n",
       "Churn                        bool\n",
       "dtype: object"
      ]
     },
     "execution_count": 8,
     "metadata": {},
     "output_type": "execute_result"
    }
   ],
   "source": [
    "churn_train.dtypes"
   ]
  },
  {
   "cell_type": "code",
   "execution_count": 9,
   "metadata": {},
   "outputs": [
    {
     "data": {
      "application/vnd.microsoft.datawrangler.viewer.v0+json": {
       "columns": [
        {
         "name": "index",
         "rawType": "object",
         "type": "string"
        },
        {
         "name": "0",
         "rawType": "object",
         "type": "unknown"
        }
       ],
       "ref": "31598f0c-f800-443a-a514-d4fcb0d69693",
       "rows": [
        [
         "State",
         "object"
        ],
        [
         "Account length",
         "int64"
        ],
        [
         "Area code",
         "int64"
        ],
        [
         "International plan",
         "object"
        ],
        [
         "Voice mail plan",
         "object"
        ],
        [
         "Number vmail messages",
         "int64"
        ],
        [
         "Total day minutes",
         "float64"
        ],
        [
         "Total day calls",
         "int64"
        ],
        [
         "Total day charge",
         "float64"
        ],
        [
         "Total eve minutes",
         "float64"
        ],
        [
         "Total eve calls",
         "int64"
        ],
        [
         "Total eve charge",
         "float64"
        ],
        [
         "Total night minutes",
         "float64"
        ],
        [
         "Total night calls",
         "int64"
        ],
        [
         "Total night charge",
         "float64"
        ],
        [
         "Total intl minutes",
         "float64"
        ],
        [
         "Total intl calls",
         "int64"
        ],
        [
         "Total intl charge",
         "float64"
        ],
        [
         "Customer service calls",
         "int64"
        ],
        [
         "Churn",
         "bool"
        ]
       ],
       "shape": {
        "columns": 1,
        "rows": 20
       }
      },
      "text/plain": [
       "State                      object\n",
       "Account length              int64\n",
       "Area code                   int64\n",
       "International plan         object\n",
       "Voice mail plan            object\n",
       "Number vmail messages       int64\n",
       "Total day minutes         float64\n",
       "Total day calls             int64\n",
       "Total day charge          float64\n",
       "Total eve minutes         float64\n",
       "Total eve calls             int64\n",
       "Total eve charge          float64\n",
       "Total night minutes       float64\n",
       "Total night calls           int64\n",
       "Total night charge        float64\n",
       "Total intl minutes        float64\n",
       "Total intl calls            int64\n",
       "Total intl charge         float64\n",
       "Customer service calls      int64\n",
       "Churn                        bool\n",
       "dtype: object"
      ]
     },
     "execution_count": 9,
     "metadata": {},
     "output_type": "execute_result"
    }
   ],
   "source": [
    "churn_test.dtypes"
   ]
  },
  {
   "cell_type": "markdown",
   "metadata": {},
   "source": [
    "- The dataset is composed mainly by integers and floats. These are valid data types for those variables.\n",
    "- The variables 'State', 'International plan', and 'Voice mail plan' are of type 'object'. The type will be converted to 'category' for the first one and 'boolean' for the remaining two because it reduces the data space required to store the dataframe.\n",
    "- The variable 'churn' is of type 'boolean', which is correct."
   ]
  },
  {
   "cell_type": "code",
   "execution_count": 10,
   "metadata": {},
   "outputs": [],
   "source": [
    "# Converting 'State' to category by using astype()\n",
    "churn_train['State'] = churn_train['State'].astype('category')\n",
    "churn_test['State'] = churn_test['State'].astype('category')\n",
    "\n",
    "# Converting 'International plan' to category by using astype()\n",
    "churn_train['International plan'] = churn_train['International plan'].astype('category')\n",
    "churn_test['International plan'] = churn_test['International plan'].astype('category')\n",
    "\n",
    "# Converting 'Voice mail plan' to category by using astype()\n",
    "churn_train['Voice mail plan'] = churn_train['Voice mail plan'].astype('category')\n",
    "churn_test['Voice mail plan'] = churn_test['Voice mail plan'].astype('category')"
   ]
  },
  {
   "cell_type": "code",
   "execution_count": 11,
   "metadata": {},
   "outputs": [
    {
     "data": {
      "application/vnd.microsoft.datawrangler.viewer.v0+json": {
       "columns": [
        {
         "name": "index",
         "rawType": "object",
         "type": "string"
        },
        {
         "name": "0",
         "rawType": "object",
         "type": "unknown"
        }
       ],
       "ref": "c91a2098-d5cd-4438-9649-131793895e33",
       "rows": [
        [
         "State",
         "category"
        ],
        [
         "Account length",
         "int64"
        ],
        [
         "Area code",
         "int64"
        ],
        [
         "International plan",
         "category"
        ],
        [
         "Voice mail plan",
         "category"
        ],
        [
         "Number vmail messages",
         "int64"
        ],
        [
         "Total day minutes",
         "float64"
        ],
        [
         "Total day calls",
         "int64"
        ],
        [
         "Total day charge",
         "float64"
        ],
        [
         "Total eve minutes",
         "float64"
        ],
        [
         "Total eve calls",
         "int64"
        ],
        [
         "Total eve charge",
         "float64"
        ],
        [
         "Total night minutes",
         "float64"
        ],
        [
         "Total night calls",
         "int64"
        ],
        [
         "Total night charge",
         "float64"
        ],
        [
         "Total intl minutes",
         "float64"
        ],
        [
         "Total intl calls",
         "int64"
        ],
        [
         "Total intl charge",
         "float64"
        ],
        [
         "Customer service calls",
         "int64"
        ],
        [
         "Churn",
         "bool"
        ]
       ],
       "shape": {
        "columns": 1,
        "rows": 20
       }
      },
      "text/plain": [
       "State                     category\n",
       "Account length               int64\n",
       "Area code                    int64\n",
       "International plan        category\n",
       "Voice mail plan           category\n",
       "Number vmail messages        int64\n",
       "Total day minutes          float64\n",
       "Total day calls              int64\n",
       "Total day charge           float64\n",
       "Total eve minutes          float64\n",
       "Total eve calls              int64\n",
       "Total eve charge           float64\n",
       "Total night minutes        float64\n",
       "Total night calls            int64\n",
       "Total night charge         float64\n",
       "Total intl minutes         float64\n",
       "Total intl calls             int64\n",
       "Total intl charge          float64\n",
       "Customer service calls       int64\n",
       "Churn                         bool\n",
       "dtype: object"
      ]
     },
     "execution_count": 11,
     "metadata": {},
     "output_type": "execute_result"
    }
   ],
   "source": [
    "churn_train.dtypes"
   ]
  },
  {
   "cell_type": "code",
   "execution_count": 12,
   "metadata": {},
   "outputs": [
    {
     "data": {
      "application/vnd.microsoft.datawrangler.viewer.v0+json": {
       "columns": [
        {
         "name": "index",
         "rawType": "object",
         "type": "string"
        },
        {
         "name": "0",
         "rawType": "object",
         "type": "unknown"
        }
       ],
       "ref": "76d866ac-2a53-4b19-8ff1-0185bed6af3a",
       "rows": [
        [
         "State",
         "category"
        ],
        [
         "Account length",
         "int64"
        ],
        [
         "Area code",
         "int64"
        ],
        [
         "International plan",
         "category"
        ],
        [
         "Voice mail plan",
         "category"
        ],
        [
         "Number vmail messages",
         "int64"
        ],
        [
         "Total day minutes",
         "float64"
        ],
        [
         "Total day calls",
         "int64"
        ],
        [
         "Total day charge",
         "float64"
        ],
        [
         "Total eve minutes",
         "float64"
        ],
        [
         "Total eve calls",
         "int64"
        ],
        [
         "Total eve charge",
         "float64"
        ],
        [
         "Total night minutes",
         "float64"
        ],
        [
         "Total night calls",
         "int64"
        ],
        [
         "Total night charge",
         "float64"
        ],
        [
         "Total intl minutes",
         "float64"
        ],
        [
         "Total intl calls",
         "int64"
        ],
        [
         "Total intl charge",
         "float64"
        ],
        [
         "Customer service calls",
         "int64"
        ],
        [
         "Churn",
         "bool"
        ]
       ],
       "shape": {
        "columns": 1,
        "rows": 20
       }
      },
      "text/plain": [
       "State                     category\n",
       "Account length               int64\n",
       "Area code                    int64\n",
       "International plan        category\n",
       "Voice mail plan           category\n",
       "Number vmail messages        int64\n",
       "Total day minutes          float64\n",
       "Total day calls              int64\n",
       "Total day charge           float64\n",
       "Total eve minutes          float64\n",
       "Total eve calls              int64\n",
       "Total eve charge           float64\n",
       "Total night minutes        float64\n",
       "Total night calls            int64\n",
       "Total night charge         float64\n",
       "Total intl minutes         float64\n",
       "Total intl calls             int64\n",
       "Total intl charge          float64\n",
       "Customer service calls       int64\n",
       "Churn                         bool\n",
       "dtype: object"
      ]
     },
     "execution_count": 12,
     "metadata": {},
     "output_type": "execute_result"
    }
   ],
   "source": [
    "churn_test.dtypes"
   ]
  },
  {
   "cell_type": "markdown",
   "metadata": {},
   "source": [
    "The data types are standardized."
   ]
  },
  {
   "cell_type": "markdown",
   "metadata": {},
   "source": [
    "### Check for missing values"
   ]
  },
  {
   "cell_type": "code",
   "execution_count": 13,
   "metadata": {},
   "outputs": [
    {
     "data": {
      "application/vnd.microsoft.datawrangler.viewer.v0+json": {
       "columns": [
        {
         "name": "index",
         "rawType": "object",
         "type": "string"
        },
        {
         "name": "0",
         "rawType": "int64",
         "type": "integer"
        }
       ],
       "ref": "ac593cec-fb48-477e-9319-acb3b1a318ff",
       "rows": [
        [
         "State",
         "0"
        ],
        [
         "Account length",
         "0"
        ],
        [
         "Area code",
         "0"
        ],
        [
         "International plan",
         "0"
        ],
        [
         "Voice mail plan",
         "0"
        ],
        [
         "Number vmail messages",
         "0"
        ],
        [
         "Total day minutes",
         "0"
        ],
        [
         "Total day calls",
         "0"
        ],
        [
         "Total day charge",
         "0"
        ],
        [
         "Total eve minutes",
         "0"
        ],
        [
         "Total eve calls",
         "0"
        ],
        [
         "Total eve charge",
         "0"
        ],
        [
         "Total night minutes",
         "0"
        ],
        [
         "Total night calls",
         "0"
        ],
        [
         "Total night charge",
         "0"
        ],
        [
         "Total intl minutes",
         "0"
        ],
        [
         "Total intl calls",
         "0"
        ],
        [
         "Total intl charge",
         "0"
        ],
        [
         "Customer service calls",
         "0"
        ],
        [
         "Churn",
         "0"
        ]
       ],
       "shape": {
        "columns": 1,
        "rows": 20
       }
      },
      "text/plain": [
       "State                     0\n",
       "Account length            0\n",
       "Area code                 0\n",
       "International plan        0\n",
       "Voice mail plan           0\n",
       "Number vmail messages     0\n",
       "Total day minutes         0\n",
       "Total day calls           0\n",
       "Total day charge          0\n",
       "Total eve minutes         0\n",
       "Total eve calls           0\n",
       "Total eve charge          0\n",
       "Total night minutes       0\n",
       "Total night calls         0\n",
       "Total night charge        0\n",
       "Total intl minutes        0\n",
       "Total intl calls          0\n",
       "Total intl charge         0\n",
       "Customer service calls    0\n",
       "Churn                     0\n",
       "dtype: int64"
      ]
     },
     "execution_count": 13,
     "metadata": {},
     "output_type": "execute_result"
    }
   ],
   "source": [
    "churn_train.isnull().sum()"
   ]
  },
  {
   "cell_type": "code",
   "execution_count": 14,
   "metadata": {},
   "outputs": [
    {
     "data": {
      "application/vnd.microsoft.datawrangler.viewer.v0+json": {
       "columns": [
        {
         "name": "index",
         "rawType": "object",
         "type": "string"
        },
        {
         "name": "0",
         "rawType": "int64",
         "type": "integer"
        }
       ],
       "ref": "fd351ba8-38e2-45e4-8d37-ccefa97c5411",
       "rows": [
        [
         "State",
         "0"
        ],
        [
         "Account length",
         "0"
        ],
        [
         "Area code",
         "0"
        ],
        [
         "International plan",
         "0"
        ],
        [
         "Voice mail plan",
         "0"
        ],
        [
         "Number vmail messages",
         "0"
        ],
        [
         "Total day minutes",
         "0"
        ],
        [
         "Total day calls",
         "0"
        ],
        [
         "Total day charge",
         "0"
        ],
        [
         "Total eve minutes",
         "0"
        ],
        [
         "Total eve calls",
         "0"
        ],
        [
         "Total eve charge",
         "0"
        ],
        [
         "Total night minutes",
         "0"
        ],
        [
         "Total night calls",
         "0"
        ],
        [
         "Total night charge",
         "0"
        ],
        [
         "Total intl minutes",
         "0"
        ],
        [
         "Total intl calls",
         "0"
        ],
        [
         "Total intl charge",
         "0"
        ],
        [
         "Customer service calls",
         "0"
        ],
        [
         "Churn",
         "0"
        ]
       ],
       "shape": {
        "columns": 1,
        "rows": 20
       }
      },
      "text/plain": [
       "State                     0\n",
       "Account length            0\n",
       "Area code                 0\n",
       "International plan        0\n",
       "Voice mail plan           0\n",
       "Number vmail messages     0\n",
       "Total day minutes         0\n",
       "Total day calls           0\n",
       "Total day charge          0\n",
       "Total eve minutes         0\n",
       "Total eve calls           0\n",
       "Total eve charge          0\n",
       "Total night minutes       0\n",
       "Total night calls         0\n",
       "Total night charge        0\n",
       "Total intl minutes        0\n",
       "Total intl calls          0\n",
       "Total intl charge         0\n",
       "Customer service calls    0\n",
       "Churn                     0\n",
       "dtype: int64"
      ]
     },
     "execution_count": 14,
     "metadata": {},
     "output_type": "execute_result"
    }
   ],
   "source": [
    "churn_test.isnull().sum()"
   ]
  },
  {
   "cell_type": "markdown",
   "metadata": {},
   "source": [
    "There are no missing values."
   ]
  },
  {
   "cell_type": "markdown",
   "metadata": {},
   "source": [
    "### Check for duplicates"
   ]
  },
  {
   "cell_type": "code",
   "execution_count": 15,
   "metadata": {},
   "outputs": [
    {
     "data": {
      "text/plain": [
       "0"
      ]
     },
     "execution_count": 15,
     "metadata": {},
     "output_type": "execute_result"
    }
   ],
   "source": [
    "churn_train.duplicated().sum()"
   ]
  },
  {
   "cell_type": "code",
   "execution_count": 16,
   "metadata": {},
   "outputs": [
    {
     "data": {
      "text/plain": [
       "0"
      ]
     },
     "execution_count": 16,
     "metadata": {},
     "output_type": "execute_result"
    }
   ],
   "source": [
    "churn_test.duplicated().sum()"
   ]
  },
  {
   "cell_type": "markdown",
   "metadata": {},
   "source": [
    "There are no duplicated rows."
   ]
  },
  {
   "cell_type": "markdown",
   "metadata": {},
   "source": [
    "### Data Cleaning Summary\n",
    "\n",
    "- Loaded training and test datasets from CSV files (`churn-bigml-80.csv` and `churn-bigml-20.csv`)\n",
    "- Verified column names and inspected the first few rows with `.head()`\n",
    "- Reviewed data types and general structure\n",
    "- Ensured categorical features (e.g., `State`, `International plan`, `Voice mail plan`) were properly formatted as categorical type\n",
    "- Checked for missing or duplicated values - no problem identified"
   ]
  },
  {
   "cell_type": "markdown",
   "metadata": {},
   "source": [
    "## Exploratory Data Analysis\n",
    "\n",
    "To be performed on the train dataset."
   ]
  },
  {
   "cell_type": "markdown",
   "metadata": {},
   "source": [
    "### Univariate Analysis"
   ]
  },
  {
   "cell_type": "code",
   "execution_count": 17,
   "metadata": {},
   "outputs": [
    {
     "data": {
      "application/vnd.microsoft.datawrangler.viewer.v0+json": {
       "columns": [
        {
         "name": "index",
         "rawType": "object",
         "type": "string"
        },
        {
         "name": "Churn",
         "rawType": "object",
         "type": "unknown"
        }
       ],
       "ref": "a3bd7f9a-092a-42d0-bf67-a381ab03259f",
       "rows": [
        [
         "count",
         "2666"
        ],
        [
         "unique",
         "2"
        ],
        [
         "top",
         "False"
        ],
        [
         "freq",
         "2278"
        ]
       ],
       "shape": {
        "columns": 1,
        "rows": 4
       }
      },
      "text/html": [
       "<div>\n",
       "<style scoped>\n",
       "    .dataframe tbody tr th:only-of-type {\n",
       "        vertical-align: middle;\n",
       "    }\n",
       "\n",
       "    .dataframe tbody tr th {\n",
       "        vertical-align: top;\n",
       "    }\n",
       "\n",
       "    .dataframe thead th {\n",
       "        text-align: right;\n",
       "    }\n",
       "</style>\n",
       "<table border=\"1\" class=\"dataframe\">\n",
       "  <thead>\n",
       "    <tr style=\"text-align: right;\">\n",
       "      <th></th>\n",
       "      <th>Churn</th>\n",
       "    </tr>\n",
       "  </thead>\n",
       "  <tbody>\n",
       "    <tr>\n",
       "      <th>count</th>\n",
       "      <td>2666</td>\n",
       "    </tr>\n",
       "    <tr>\n",
       "      <th>unique</th>\n",
       "      <td>2</td>\n",
       "    </tr>\n",
       "    <tr>\n",
       "      <th>top</th>\n",
       "      <td>False</td>\n",
       "    </tr>\n",
       "    <tr>\n",
       "      <th>freq</th>\n",
       "      <td>2278</td>\n",
       "    </tr>\n",
       "  </tbody>\n",
       "</table>\n",
       "</div>"
      ],
      "text/plain": [
       "        Churn\n",
       "count    2666\n",
       "unique      2\n",
       "top     False\n",
       "freq     2278"
      ]
     },
     "execution_count": 17,
     "metadata": {},
     "output_type": "execute_result"
    }
   ],
   "source": [
    "# Statistical summary for boolean variables\n",
    "set_option('display.width', 100)\n",
    "set_option('display.precision', 2)\n",
    "churn_train.describe(include=['bool'])"
   ]
  },
  {
   "cell_type": "markdown",
   "metadata": {},
   "source": [
    "2278 customers, or **85.4%, did not churn** (False). Therefore, **14.6% of the customers are churners.**"
   ]
  },
  {
   "cell_type": "code",
   "execution_count": 18,
   "metadata": {},
   "outputs": [
    {
     "data": {
      "application/vnd.microsoft.datawrangler.viewer.v0+json": {
       "columns": [
        {
         "name": "index",
         "rawType": "object",
         "type": "string"
        },
        {
         "name": "State",
         "rawType": "object",
         "type": "unknown"
        },
        {
         "name": "International plan",
         "rawType": "object",
         "type": "unknown"
        },
        {
         "name": "Voice mail plan",
         "rawType": "object",
         "type": "unknown"
        }
       ],
       "ref": "4e76cdfa-bccf-4266-bc2b-bf51f1a0ca8d",
       "rows": [
        [
         "count",
         "2666",
         "2666",
         "2666"
        ],
        [
         "unique",
         "51",
         "2",
         "2"
        ],
        [
         "top",
         "WV",
         "No",
         "No"
        ],
        [
         "freq",
         "88",
         "2396",
         "1933"
        ]
       ],
       "shape": {
        "columns": 3,
        "rows": 4
       }
      },
      "text/html": [
       "<div>\n",
       "<style scoped>\n",
       "    .dataframe tbody tr th:only-of-type {\n",
       "        vertical-align: middle;\n",
       "    }\n",
       "\n",
       "    .dataframe tbody tr th {\n",
       "        vertical-align: top;\n",
       "    }\n",
       "\n",
       "    .dataframe thead th {\n",
       "        text-align: right;\n",
       "    }\n",
       "</style>\n",
       "<table border=\"1\" class=\"dataframe\">\n",
       "  <thead>\n",
       "    <tr style=\"text-align: right;\">\n",
       "      <th></th>\n",
       "      <th>State</th>\n",
       "      <th>International plan</th>\n",
       "      <th>Voice mail plan</th>\n",
       "    </tr>\n",
       "  </thead>\n",
       "  <tbody>\n",
       "    <tr>\n",
       "      <th>count</th>\n",
       "      <td>2666</td>\n",
       "      <td>2666</td>\n",
       "      <td>2666</td>\n",
       "    </tr>\n",
       "    <tr>\n",
       "      <th>unique</th>\n",
       "      <td>51</td>\n",
       "      <td>2</td>\n",
       "      <td>2</td>\n",
       "    </tr>\n",
       "    <tr>\n",
       "      <th>top</th>\n",
       "      <td>WV</td>\n",
       "      <td>No</td>\n",
       "      <td>No</td>\n",
       "    </tr>\n",
       "    <tr>\n",
       "      <th>freq</th>\n",
       "      <td>88</td>\n",
       "      <td>2396</td>\n",
       "      <td>1933</td>\n",
       "    </tr>\n",
       "  </tbody>\n",
       "</table>\n",
       "</div>"
      ],
      "text/plain": [
       "       State International plan Voice mail plan\n",
       "count   2666               2666            2666\n",
       "unique    51                  2               2\n",
       "top       WV                 No              No\n",
       "freq      88               2396            1933"
      ]
     },
     "execution_count": 18,
     "metadata": {},
     "output_type": "execute_result"
    }
   ],
   "source": [
    "# Statistical summary for category variables\n",
    "set_option('display.width', 100)\n",
    "set_option('display.precision', 2)\n",
    "churn_train.describe(include=['category'])"
   ]
  },
  {
   "cell_type": "markdown",
   "metadata": {},
   "source": [
    "- The dataset covers customers from **51 different U.S. states**, with **West Virginia (WV)** being the most represented (88 customers).\n",
    "- A large majority of customers **do not have an international plan**, around 90%.\n",
    "- **About 73%** of customers **do not have a voice mail plan**. "
   ]
  },
  {
   "cell_type": "code",
   "execution_count": 19,
   "metadata": {},
   "outputs": [
    {
     "data": {
      "application/vnd.microsoft.datawrangler.viewer.v0+json": {
       "columns": [
        {
         "name": "index",
         "rawType": "object",
         "type": "string"
        },
        {
         "name": "Account length",
         "rawType": "float64",
         "type": "float"
        },
        {
         "name": "Area code",
         "rawType": "float64",
         "type": "float"
        },
        {
         "name": "Number vmail messages",
         "rawType": "float64",
         "type": "float"
        },
        {
         "name": "Total day minutes",
         "rawType": "float64",
         "type": "float"
        },
        {
         "name": "Total day calls",
         "rawType": "float64",
         "type": "float"
        },
        {
         "name": "Total day charge",
         "rawType": "float64",
         "type": "float"
        },
        {
         "name": "Total eve minutes",
         "rawType": "float64",
         "type": "float"
        },
        {
         "name": "Total eve calls",
         "rawType": "float64",
         "type": "float"
        },
        {
         "name": "Total eve charge",
         "rawType": "float64",
         "type": "float"
        },
        {
         "name": "Total night minutes",
         "rawType": "float64",
         "type": "float"
        },
        {
         "name": "Total night calls",
         "rawType": "float64",
         "type": "float"
        },
        {
         "name": "Total night charge",
         "rawType": "float64",
         "type": "float"
        },
        {
         "name": "Total intl minutes",
         "rawType": "float64",
         "type": "float"
        },
        {
         "name": "Total intl calls",
         "rawType": "float64",
         "type": "float"
        },
        {
         "name": "Total intl charge",
         "rawType": "float64",
         "type": "float"
        },
        {
         "name": "Customer service calls",
         "rawType": "float64",
         "type": "float"
        }
       ],
       "ref": "7516822e-2545-4310-8a88-dd8d82e9c167",
       "rows": [
        [
         "count",
         "2666.0",
         "2666.0",
         "2666.0",
         "2666.0",
         "2666.0",
         "2666.0",
         "2666.0",
         "2666.0",
         "2666.0",
         "2666.0",
         "2666.0",
         "2666.0",
         "2666.0",
         "2666.0",
         "2666.0",
         "2666.0"
        ],
        [
         "mean",
         "100.62040510127532",
         "437.43885971492875",
         "8.021755438859715",
         "179.48162040510127",
         "100.31020255063765",
         "30.512404351087774",
         "200.38615903975995",
         "100.02363090772693",
         "17.0330720180045",
         "201.16894223555886",
         "100.10615153788447",
         "9.05268942235559",
         "10.23702175543886",
         "4.467366841710428",
         "2.7644898724681166",
         "1.5626406601650413"
        ],
        [
         "std",
         "39.56397365334972",
         "42.521018019428084",
         "13.612277018291671",
         "54.210350220869856",
         "19.988162186059522",
         "9.215732907163506",
         "50.951515117645926",
         "20.161445115318873",
         "4.330864176799867",
         "50.78032336872526",
         "19.418458551101722",
         "2.2851195129157587",
         "2.7883485770512655",
         "2.45619490301294",
         "0.7528120531228483",
         "1.311235758994902"
        ],
        [
         "min",
         "1.0",
         "408.0",
         "0.0",
         "0.0",
         "0.0",
         "0.0",
         "0.0",
         "0.0",
         "0.0",
         "43.7",
         "33.0",
         "1.97",
         "0.0",
         "0.0",
         "0.0",
         "0.0"
        ],
        [
         "25%",
         "73.0",
         "408.0",
         "0.0",
         "143.4",
         "87.0",
         "24.38",
         "165.3",
         "87.0",
         "14.05",
         "166.925",
         "87.0",
         "7.512499999999999",
         "8.5",
         "3.0",
         "2.3",
         "1.0"
        ],
        [
         "50%",
         "100.0",
         "415.0",
         "0.0",
         "179.95",
         "101.0",
         "30.59",
         "200.9",
         "100.0",
         "17.08",
         "201.14999999999998",
         "100.0",
         "9.05",
         "10.2",
         "4.0",
         "2.75",
         "1.0"
        ],
        [
         "75%",
         "127.0",
         "510.0",
         "19.0",
         "215.9",
         "114.0",
         "36.7",
         "235.1",
         "114.0",
         "19.98",
         "236.475",
         "113.0",
         "10.64",
         "12.1",
         "6.0",
         "3.27",
         "2.0"
        ],
        [
         "max",
         "243.0",
         "510.0",
         "50.0",
         "350.8",
         "160.0",
         "59.64",
         "363.7",
         "170.0",
         "30.91",
         "395.0",
         "166.0",
         "17.77",
         "20.0",
         "20.0",
         "5.4",
         "9.0"
        ]
       ],
       "shape": {
        "columns": 16,
        "rows": 8
       }
      },
      "text/html": [
       "<div>\n",
       "<style scoped>\n",
       "    .dataframe tbody tr th:only-of-type {\n",
       "        vertical-align: middle;\n",
       "    }\n",
       "\n",
       "    .dataframe tbody tr th {\n",
       "        vertical-align: top;\n",
       "    }\n",
       "\n",
       "    .dataframe thead th {\n",
       "        text-align: right;\n",
       "    }\n",
       "</style>\n",
       "<table border=\"1\" class=\"dataframe\">\n",
       "  <thead>\n",
       "    <tr style=\"text-align: right;\">\n",
       "      <th></th>\n",
       "      <th>Account length</th>\n",
       "      <th>Area code</th>\n",
       "      <th>Number vmail messages</th>\n",
       "      <th>Total day minutes</th>\n",
       "      <th>Total day calls</th>\n",
       "      <th>Total day charge</th>\n",
       "      <th>Total eve minutes</th>\n",
       "      <th>Total eve calls</th>\n",
       "      <th>Total eve charge</th>\n",
       "      <th>Total night minutes</th>\n",
       "      <th>Total night calls</th>\n",
       "      <th>Total night charge</th>\n",
       "      <th>Total intl minutes</th>\n",
       "      <th>Total intl calls</th>\n",
       "      <th>Total intl charge</th>\n",
       "      <th>Customer service calls</th>\n",
       "    </tr>\n",
       "  </thead>\n",
       "  <tbody>\n",
       "    <tr>\n",
       "      <th>count</th>\n",
       "      <td>2666.00</td>\n",
       "      <td>2666.00</td>\n",
       "      <td>2666.00</td>\n",
       "      <td>2666.00</td>\n",
       "      <td>2666.00</td>\n",
       "      <td>2666.00</td>\n",
       "      <td>2666.00</td>\n",
       "      <td>2666.00</td>\n",
       "      <td>2666.00</td>\n",
       "      <td>2666.00</td>\n",
       "      <td>2666.00</td>\n",
       "      <td>2666.00</td>\n",
       "      <td>2666.00</td>\n",
       "      <td>2666.00</td>\n",
       "      <td>2666.00</td>\n",
       "      <td>2666.00</td>\n",
       "    </tr>\n",
       "    <tr>\n",
       "      <th>mean</th>\n",
       "      <td>100.62</td>\n",
       "      <td>437.44</td>\n",
       "      <td>8.02</td>\n",
       "      <td>179.48</td>\n",
       "      <td>100.31</td>\n",
       "      <td>30.51</td>\n",
       "      <td>200.39</td>\n",
       "      <td>100.02</td>\n",
       "      <td>17.03</td>\n",
       "      <td>201.17</td>\n",
       "      <td>100.11</td>\n",
       "      <td>9.05</td>\n",
       "      <td>10.24</td>\n",
       "      <td>4.47</td>\n",
       "      <td>2.76</td>\n",
       "      <td>1.56</td>\n",
       "    </tr>\n",
       "    <tr>\n",
       "      <th>std</th>\n",
       "      <td>39.56</td>\n",
       "      <td>42.52</td>\n",
       "      <td>13.61</td>\n",
       "      <td>54.21</td>\n",
       "      <td>19.99</td>\n",
       "      <td>9.22</td>\n",
       "      <td>50.95</td>\n",
       "      <td>20.16</td>\n",
       "      <td>4.33</td>\n",
       "      <td>50.78</td>\n",
       "      <td>19.42</td>\n",
       "      <td>2.29</td>\n",
       "      <td>2.79</td>\n",
       "      <td>2.46</td>\n",
       "      <td>0.75</td>\n",
       "      <td>1.31</td>\n",
       "    </tr>\n",
       "    <tr>\n",
       "      <th>min</th>\n",
       "      <td>1.00</td>\n",
       "      <td>408.00</td>\n",
       "      <td>0.00</td>\n",
       "      <td>0.00</td>\n",
       "      <td>0.00</td>\n",
       "      <td>0.00</td>\n",
       "      <td>0.00</td>\n",
       "      <td>0.00</td>\n",
       "      <td>0.00</td>\n",
       "      <td>43.70</td>\n",
       "      <td>33.00</td>\n",
       "      <td>1.97</td>\n",
       "      <td>0.00</td>\n",
       "      <td>0.00</td>\n",
       "      <td>0.00</td>\n",
       "      <td>0.00</td>\n",
       "    </tr>\n",
       "    <tr>\n",
       "      <th>25%</th>\n",
       "      <td>73.00</td>\n",
       "      <td>408.00</td>\n",
       "      <td>0.00</td>\n",
       "      <td>143.40</td>\n",
       "      <td>87.00</td>\n",
       "      <td>24.38</td>\n",
       "      <td>165.30</td>\n",
       "      <td>87.00</td>\n",
       "      <td>14.05</td>\n",
       "      <td>166.93</td>\n",
       "      <td>87.00</td>\n",
       "      <td>7.51</td>\n",
       "      <td>8.50</td>\n",
       "      <td>3.00</td>\n",
       "      <td>2.30</td>\n",
       "      <td>1.00</td>\n",
       "    </tr>\n",
       "    <tr>\n",
       "      <th>50%</th>\n",
       "      <td>100.00</td>\n",
       "      <td>415.00</td>\n",
       "      <td>0.00</td>\n",
       "      <td>179.95</td>\n",
       "      <td>101.00</td>\n",
       "      <td>30.59</td>\n",
       "      <td>200.90</td>\n",
       "      <td>100.00</td>\n",
       "      <td>17.08</td>\n",
       "      <td>201.15</td>\n",
       "      <td>100.00</td>\n",
       "      <td>9.05</td>\n",
       "      <td>10.20</td>\n",
       "      <td>4.00</td>\n",
       "      <td>2.75</td>\n",
       "      <td>1.00</td>\n",
       "    </tr>\n",
       "    <tr>\n",
       "      <th>75%</th>\n",
       "      <td>127.00</td>\n",
       "      <td>510.00</td>\n",
       "      <td>19.00</td>\n",
       "      <td>215.90</td>\n",
       "      <td>114.00</td>\n",
       "      <td>36.70</td>\n",
       "      <td>235.10</td>\n",
       "      <td>114.00</td>\n",
       "      <td>19.98</td>\n",
       "      <td>236.47</td>\n",
       "      <td>113.00</td>\n",
       "      <td>10.64</td>\n",
       "      <td>12.10</td>\n",
       "      <td>6.00</td>\n",
       "      <td>3.27</td>\n",
       "      <td>2.00</td>\n",
       "    </tr>\n",
       "    <tr>\n",
       "      <th>max</th>\n",
       "      <td>243.00</td>\n",
       "      <td>510.00</td>\n",
       "      <td>50.00</td>\n",
       "      <td>350.80</td>\n",
       "      <td>160.00</td>\n",
       "      <td>59.64</td>\n",
       "      <td>363.70</td>\n",
       "      <td>170.00</td>\n",
       "      <td>30.91</td>\n",
       "      <td>395.00</td>\n",
       "      <td>166.00</td>\n",
       "      <td>17.77</td>\n",
       "      <td>20.00</td>\n",
       "      <td>20.00</td>\n",
       "      <td>5.40</td>\n",
       "      <td>9.00</td>\n",
       "    </tr>\n",
       "  </tbody>\n",
       "</table>\n",
       "</div>"
      ],
      "text/plain": [
       "       Account length  Area code  Number vmail messages  Total day minutes  Total day calls  \\\n",
       "count         2666.00    2666.00                2666.00            2666.00          2666.00   \n",
       "mean           100.62     437.44                   8.02             179.48           100.31   \n",
       "std             39.56      42.52                  13.61              54.21            19.99   \n",
       "min              1.00     408.00                   0.00               0.00             0.00   \n",
       "25%             73.00     408.00                   0.00             143.40            87.00   \n",
       "50%            100.00     415.00                   0.00             179.95           101.00   \n",
       "75%            127.00     510.00                  19.00             215.90           114.00   \n",
       "max            243.00     510.00                  50.00             350.80           160.00   \n",
       "\n",
       "       Total day charge  Total eve minutes  Total eve calls  Total eve charge  \\\n",
       "count           2666.00            2666.00          2666.00           2666.00   \n",
       "mean              30.51             200.39           100.02             17.03   \n",
       "std                9.22              50.95            20.16              4.33   \n",
       "min                0.00               0.00             0.00              0.00   \n",
       "25%               24.38             165.30            87.00             14.05   \n",
       "50%               30.59             200.90           100.00             17.08   \n",
       "75%               36.70             235.10           114.00             19.98   \n",
       "max               59.64             363.70           170.00             30.91   \n",
       "\n",
       "       Total night minutes  Total night calls  Total night charge  Total intl minutes  \\\n",
       "count              2666.00            2666.00             2666.00             2666.00   \n",
       "mean                201.17             100.11                9.05               10.24   \n",
       "std                  50.78              19.42                2.29                2.79   \n",
       "min                  43.70              33.00                1.97                0.00   \n",
       "25%                 166.93              87.00                7.51                8.50   \n",
       "50%                 201.15             100.00                9.05               10.20   \n",
       "75%                 236.47             113.00               10.64               12.10   \n",
       "max                 395.00             166.00               17.77               20.00   \n",
       "\n",
       "       Total intl calls  Total intl charge  Customer service calls  \n",
       "count           2666.00            2666.00                 2666.00  \n",
       "mean               4.47               2.76                    1.56  \n",
       "std                2.46               0.75                    1.31  \n",
       "min                0.00               0.00                    0.00  \n",
       "25%                3.00               2.30                    1.00  \n",
       "50%                4.00               2.75                    1.00  \n",
       "75%                6.00               3.27                    2.00  \n",
       "max               20.00               5.40                    9.00  "
      ]
     },
     "execution_count": 19,
     "metadata": {},
     "output_type": "execute_result"
    }
   ],
   "source": [
    "# Statistical summary for numeric variables\n",
    "set_option('display.width', 100)\n",
    "set_option('display.precision', 2)\n",
    "churn_train.describe()"
   ]
  },
  {
   "cell_type": "markdown",
   "metadata": {},
   "source": [
    "- The average customer has been with the company for about 100 months, with some staying as long as 243 months (over 20 years).\n",
    "- 50% of customers have **zero** voicemail messages, while a small group uses it heavily (up to 50 messages).\n",
    "- Daytime usage has the highest charges and variability, with **day minutes** ranging from 0 to around 350 and corresponding charges up to $59.\n",
    "- Evening and night minutes show high usage (up to 395 minutes at night).\n",
    "- The average of the total number of minutes and calls are about the same for evening and night, but the charged fees are around 50% lower at nights.\n",
    "- **International usage** is generally low, with most customers using 8–12 minutes. Charges rarely exceed $5.\n",
    "- On average, customers call customer service **1–2 times**, but some have called up to **9 times**, which might indicate frustration or unresolved issues."
   ]
  },
  {
   "cell_type": "markdown",
   "metadata": {},
   "source": [
    "- The Account length of the sampled costumers range from 1 to 243 months, with a mean value of 100, which is similar to the median. This can indicate a uniform distribution.\n",
    "- The variable Area code has at least 25% of data equal to 408, at least 25% equal to 510, a median of 415 and a mean value of 437. This may indicate a problem with this data, as it appears to have way less values as expected, considering that the dataset covers all the US states."
   ]
  },
  {
   "cell_type": "markdown",
   "metadata": {},
   "source": [
    "#### Obervations on Churn"
   ]
  },
  {
   "cell_type": "code",
   "execution_count": 20,
   "metadata": {},
   "outputs": [
    {
     "data": {
      "image/png": "[encoded data removed]",
      "text/plain": [
       "<Figure size 640x480 with 1 Axes>"
      ]
     },
     "metadata": {},
     "output_type": "display_data"
    }
   ],
   "source": [
    "# Plotting the bar and pie charts for the variable Churn.\n",
    "feature = churn_train['Churn']\n",
    "\n",
    "feature_count = feature.value_counts()\n",
    "feature_percentage = feature_count / feature_count.sum() * 100\n",
    "\n",
    "ax = sns.barplot(x=feature_percentage.index, y=feature_percentage.values)\n",
    "ax.bar_label(ax.containers[0], fmt='%.1f%%')\n",
    "plt.xlabel(feature.name)\n",
    "plt.ylabel('Percentage')\n",
    "plt.title(feature.name + ' Distribution')\n",
    "plt.show()"
   ]
  },
  {
   "cell_type": "markdown",
   "metadata": {},
   "source": [
    "- Around **15% of Orange Telecom customers churned** during the period in which the data was extracted.\n",
    "- The dataset is imbalanced, as the number of non-churners is almost six times higher than the number of churners.\n",
    "    - It must be adressed during predictions, as this imbalance may cause bias."
   ]
  },
  {
   "cell_type": "markdown",
   "metadata": {},
   "source": [
    "#### Obervations on State"
   ]
  },
  {
   "cell_type": "code",
   "execution_count": 21,
   "metadata": {},
   "outputs": [
    {
     "data": {
      "image/png": "[encoded data removed]",
      "text/plain": [
       "<Figure size 2500x500 with 1 Axes>"
      ]
     },
     "metadata": {},
     "output_type": "display_data"
    }
   ],
   "source": [
    "# Plotting the bar chart for the variable State.\n",
    "feature = churn_train['State']\n",
    "\n",
    "feature_count = feature.value_counts()\n",
    "feature_percentage = feature_count / feature_count.sum() * 100\n",
    "\n",
    "fig, ax = plt.subplots(figsize=(25, 5))\n",
    "sns.barplot(x=feature_percentage.index, y=feature_percentage.values, color='mediumturquoise')\n",
    "ax.bar_label(ax.containers[0], fmt='%.1f%%')\n",
    "plt.xlabel(feature.name)\n",
    "plt.ylabel('Percentage')\n",
    "plt.title(feature.name + ' Distribution')\n",
    "plt.show()"
   ]
  },
  {
   "cell_type": "markdown",
   "metadata": {},
   "source": [
    "- **WV is the state with most customers of the dataset, while CA is the one with the least**.\n",
    "- This might add bias to the prediction model, because the states have different populations.\n",
    "- The amount of customers is very similar between the remaining states (from 1.4% to 2.6% of all the data)."
   ]
  },
  {
   "cell_type": "markdown",
   "metadata": {},
   "source": [
    "#### Obervations on Area code"
   ]
  },
  {
   "cell_type": "code",
   "execution_count": 22,
   "metadata": {},
   "outputs": [
    {
     "data": {
      "image/png": "[encoded data removed]",
      "text/plain": [
       "<Figure size 640x480 with 1 Axes>"
      ]
     },
     "metadata": {},
     "output_type": "display_data"
    }
   ],
   "source": [
    "# Plotting the bar chart for the variable Area code.\n",
    "feature = churn_train['Area code']\n",
    "\n",
    "feature_count = feature.value_counts()\n",
    "feature_percentage = feature_count / feature_count.sum() * 100\n",
    "\n",
    "ax = sns.barplot(x=feature_percentage.index, y=feature_percentage.values, color='mediumturquoise')\n",
    "ax.bar_label(ax.containers[0], fmt='%.1f%%')\n",
    "plt.xlabel(feature.name)\n",
    "plt.ylabel('Percentage')\n",
    "plt.title(feature.name + ' Distribution')\n",
    "plt.show()"
   ]
  },
  {
   "cell_type": "markdown",
   "metadata": {},
   "source": [
    "- **There are only 3 area codes in the dataset**, which doesn't make sense as it covers all the USA's states according to the initial interpretation of what 'Area code' means.\n",
    "- It could have a different meaning than \"a set of digits that identifies a particular telephone service area within a state\".\n",
    "- This suggests that **this dataset can synthetic or anonymized**.\n",
    "- This variable should be discarded due to the lack of information about it."
   ]
  },
  {
   "cell_type": "markdown",
   "metadata": {},
   "source": [
    "### Multivariate Analysis"
   ]
  },
  {
   "cell_type": "code",
   "execution_count": 23,
   "metadata": {},
   "outputs": [
    {
     "data": {
      "image/png": "[encoded data removed]",
      "text/plain": [
       "<Figure size 640x480 with 2 Axes>"
      ]
     },
     "metadata": {},
     "output_type": "display_data"
    }
   ],
   "source": [
    "numerical_features = churn_train.select_dtypes(include=np.number)  # selecting numerical features\n",
    "cormat = numerical_features.corr()\n",
    "sns.heatmap(cormat)\n",
    "plt.show()"
   ]
  },
  {
   "cell_type": "markdown",
   "metadata": {},
   "source": [
    "It is possible to note that there is a high correlation between the variables:\n",
    "- Total day minutes and Total day charge;\n",
    "- Total eve minutes and Total eve charge;\n",
    "- Total night minutes and Total night charge;\n",
    "- Total intl minutes and Total intl charge.\n",
    "\n",
    "The charge is calculated using total minutes, therefore these variables can be dropped."
   ]
  },
  {
   "cell_type": "markdown",
   "metadata": {},
   "source": [
    "#### Account length, Number vmail messages, and Customer service calls by Churn"
   ]
  },
  {
   "cell_type": "code",
   "execution_count": 24,
   "metadata": {},
   "outputs": [
    {
     "data": {
      "image/png": "[encoded data removed]",
      "text/plain": [
       "<Figure size 1800x500 with 3 Axes>"
      ]
     },
     "metadata": {},
     "output_type": "display_data"
    }
   ],
   "source": [
    "features = ['Account length', 'Number vmail messages', 'Customer service calls']\n",
    "fig, axes = plt.subplots(nrows=1, ncols=3, figsize=(18, 5))\n",
    "\n",
    "for i, feature in enumerate(features):\n",
    "    sns.boxplot(x='Churn', y=feature, data=churn_train, ax=axes[i])\n",
    "    axes[i].set_title(f'{feature} by Churn')\n",
    "    axes[i].set_xlabel('Churn')\n",
    "    axes[i].set_ylabel(feature)\n",
    "\n",
    "plt.tight_layout()\n",
    "plt.show()"
   ]
  },
  {
   "cell_type": "markdown",
   "metadata": {},
   "source": [
    "Account Length\n",
    "- The distribution of `Account length` is **very similar** for both churned and retained customers.\n",
    "- Therefore, how long a customer has stayed is not a strong indicator of churn in this dataset.\n",
    "\n",
    "Number of Voicemail Messages\n",
    "- The boxplot is misleading because it **ignores the number of customers with 0 messages**.\n",
    "- We can plot a histogram an analyze it better.\n",
    "\n",
    "Customer Service Calls\n",
    "- The boxplot shows a **higher median** and outliers among churned users. Therefore, Churned customers tend to contact customer service more frequently.\n",
    "- This could indicate that **frustration or unresolved issues** leads to cancellations."
   ]
  },
  {
   "cell_type": "code",
   "execution_count": 25,
   "metadata": {},
   "outputs": [
    {
     "data": {
      "application/vnd.microsoft.datawrangler.viewer.v0+json": {
       "columns": [
        {
         "name": "(None, None)",
         "rawType": "object",
         "type": "unknown"
        },
        {
         "name": "False",
         "rawType": "float64",
         "type": "float"
        },
        {
         "name": "True",
         "rawType": "float64",
         "type": "float"
        }
       ],
       "ref": "65a34105-c602-4e32-b227-991ef9ee0f5f",
       "rows": [
        [
         "('Number vmail messages', 'count')",
         "2278.0",
         "388.0"
        ],
        [
         "('Number vmail messages', 'mean')",
         "8.507462686567164",
         "5.170103092783505"
        ],
        [
         "('Number vmail messages', 'std')",
         "13.830160169647723",
         "11.876493317869368"
        ],
        [
         "('Number vmail messages', 'min')",
         "0.0",
         "0.0"
        ],
        [
         "('Number vmail messages', '25%')",
         "0.0",
         "0.0"
        ],
        [
         "('Number vmail messages', '50%')",
         "0.0",
         "0.0"
        ],
        [
         "('Number vmail messages', '75%')",
         "21.0",
         "0.0"
        ],
        [
         "('Number vmail messages', 'max')",
         "50.0",
         "45.0"
        ]
       ],
       "shape": {
        "columns": 2,
        "rows": 8
       }
      },
      "text/html": [
       "<div>\n",
       "<style scoped>\n",
       "    .dataframe tbody tr th:only-of-type {\n",
       "        vertical-align: middle;\n",
       "    }\n",
       "\n",
       "    .dataframe tbody tr th {\n",
       "        vertical-align: top;\n",
       "    }\n",
       "\n",
       "    .dataframe thead th {\n",
       "        text-align: right;\n",
       "    }\n",
       "</style>\n",
       "<table border=\"1\" class=\"dataframe\">\n",
       "  <thead>\n",
       "    <tr style=\"text-align: right;\">\n",
       "      <th></th>\n",
       "      <th>Churn</th>\n",
       "      <th>False</th>\n",
       "      <th>True</th>\n",
       "    </tr>\n",
       "  </thead>\n",
       "  <tbody>\n",
       "    <tr>\n",
       "      <th rowspan=\"8\" valign=\"top\">Number vmail messages</th>\n",
       "      <th>count</th>\n",
       "      <td>2278.00</td>\n",
       "      <td>388.00</td>\n",
       "    </tr>\n",
       "    <tr>\n",
       "      <th>mean</th>\n",
       "      <td>8.51</td>\n",
       "      <td>5.17</td>\n",
       "    </tr>\n",
       "    <tr>\n",
       "      <th>std</th>\n",
       "      <td>13.83</td>\n",
       "      <td>11.88</td>\n",
       "    </tr>\n",
       "    <tr>\n",
       "      <th>min</th>\n",
       "      <td>0.00</td>\n",
       "      <td>0.00</td>\n",
       "    </tr>\n",
       "    <tr>\n",
       "      <th>25%</th>\n",
       "      <td>0.00</td>\n",
       "      <td>0.00</td>\n",
       "    </tr>\n",
       "    <tr>\n",
       "      <th>50%</th>\n",
       "      <td>0.00</td>\n",
       "      <td>0.00</td>\n",
       "    </tr>\n",
       "    <tr>\n",
       "      <th>75%</th>\n",
       "      <td>21.00</td>\n",
       "      <td>0.00</td>\n",
       "    </tr>\n",
       "    <tr>\n",
       "      <th>max</th>\n",
       "      <td>50.00</td>\n",
       "      <td>45.00</td>\n",
       "    </tr>\n",
       "  </tbody>\n",
       "</table>\n",
       "</div>"
      ],
      "text/plain": [
       "Churn                          False   True \n",
       "Number vmail messages count  2278.00  388.00\n",
       "                      mean      8.51    5.17\n",
       "                      std      13.83   11.88\n",
       "                      min       0.00    0.00\n",
       "                      25%       0.00    0.00\n",
       "                      50%       0.00    0.00\n",
       "                      75%      21.00    0.00\n",
       "                      max      50.00   45.00"
      ]
     },
     "execution_count": 25,
     "metadata": {},
     "output_type": "execute_result"
    }
   ],
   "source": [
    "churn_train.groupby('Churn')[['Number vmail messages']].describe().transpose()"
   ]
  },
  {
   "cell_type": "code",
   "execution_count": 26,
   "metadata": {},
   "outputs": [
    {
     "data": {
      "text/plain": [
       "<seaborn.axisgrid.FacetGrid at 0x1687cb790>"
      ]
     },
     "execution_count": 26,
     "metadata": {},
     "output_type": "execute_result"
    },
    {
     "data": {
      "image/png": "[encoded data removed]",
      "text/plain": [
       "<Figure size 600x300 with 2 Axes>"
      ]
     },
     "metadata": {},
     "output_type": "display_data"
    }
   ],
   "source": [
    "# faceted histogram of the feature\n",
    "g = sns.FacetGrid(churn_train, col='Churn', col_wrap=2, sharex=True, sharey=True)\n",
    "g.map(sns.histplot, 'Number vmail messages', binwidth=1)"
   ]
  },
  {
   "cell_type": "markdown",
   "metadata": {},
   "source": [
    "Number of Voicemail Messages\n",
    "- Most customers **who churned had zero voicemail messages**.\n",
    "- Non-churned customers are more likely to have used voicemail at least a few times.\n",
    "- The groupby table confirms this: mean voicemail usage is **lower among churned customers**.\n",
    "\n",
    "- Having voicemail messages may indicate engagement. The opposite could indicate that the client has a lower service value perception or even disconnection."
   ]
  },
  {
   "cell_type": "markdown",
   "metadata": {},
   "source": [
    "#### Total day minutes, calls, and charge by Churn"
   ]
  },
  {
   "cell_type": "code",
   "execution_count": 27,
   "metadata": {},
   "outputs": [
    {
     "data": {
      "image/png": "[encoded data removed]",
      "text/plain": [
       "<Figure size 1800x500 with 3 Axes>"
      ]
     },
     "metadata": {},
     "output_type": "display_data"
    }
   ],
   "source": [
    "features = ['Total day minutes', 'Total day calls', 'Total day charge']\n",
    "fig, axes = plt.subplots(nrows=1, ncols=3, figsize=(18, 5))\n",
    "\n",
    "for i, feature in enumerate(features):\n",
    "    sns.boxplot(x='Churn', y=feature, data=churn_train, ax=axes[i])\n",
    "    axes[i].set_title(f'{feature} by Churn')\n",
    "    axes[i].set_xlabel('Churn')\n",
    "    axes[i].set_ylabel(feature)\n",
    "\n",
    "plt.tight_layout()\n",
    "plt.show()"
   ]
  },
  {
   "cell_type": "markdown",
   "metadata": {},
   "source": [
    "- **Churned customers** use more **daytime minutes** and generate **higher charges** on average.\n",
    "- The **Total day calls** among retained and churned users are very simillar, indicating that number of day calls is not a churn risk factor.\n",
    "\n",
    "Therefore, **daytime usage in terms of minutes and charges is a strong churn risk factor**.\n",
    "- Customers that have longer calls and consequently are charged more tend to churn."
   ]
  },
  {
   "cell_type": "markdown",
   "metadata": {},
   "source": [
    "#### Total eve minutes, calls, and charge by Churn"
   ]
  },
  {
   "cell_type": "code",
   "execution_count": 28,
   "metadata": {},
   "outputs": [
    {
     "data": {
      "image/png": "[encoded data removed]",
      "text/plain": [
       "<Figure size 1800x500 with 3 Axes>"
      ]
     },
     "metadata": {},
     "output_type": "display_data"
    }
   ],
   "source": [
    "features = ['Total eve minutes', 'Total eve calls', 'Total eve charge']\n",
    "fig, axes = plt.subplots(nrows=1, ncols=3, figsize=(18, 5))\n",
    "\n",
    "for i, feature in enumerate(features):\n",
    "    sns.boxplot(x='Churn', y=feature, data=churn_train, ax=axes[i])\n",
    "    axes[i].set_title(f'{feature} by Churn')\n",
    "    axes[i].set_xlabel('Churn')\n",
    "    axes[i].set_ylabel(feature)\n",
    "\n",
    "plt.tight_layout()\n",
    "plt.show()"
   ]
  },
  {
   "cell_type": "markdown",
   "metadata": {},
   "source": [
    "- Differences in **evening minutes**, **calls**, and **charges** between churned and non-churned users are **minimal**.\n",
    "\n",
    "Evening usage does **not appear to be a strong indicator** of churn."
   ]
  },
  {
   "cell_type": "markdown",
   "metadata": {},
   "source": [
    "#### Total night minutes, calls, and charge by Churn"
   ]
  },
  {
   "cell_type": "code",
   "execution_count": 29,
   "metadata": {},
   "outputs": [
    {
     "data": {
      "image/png": "[encoded data removed]",
      "text/plain": [
       "<Figure size 1800x500 with 3 Axes>"
      ]
     },
     "metadata": {},
     "output_type": "display_data"
    }
   ],
   "source": [
    "features = ['Total night minutes', 'Total night calls', 'Total night charge']\n",
    "fig, axes = plt.subplots(nrows=1, ncols=3, figsize=(18, 5))\n",
    "\n",
    "for i, feature in enumerate(features):\n",
    "    sns.boxplot(x='Churn', y=feature, data=churn_train, ax=axes[i])\n",
    "    axes[i].set_title(f'{feature} by Churn')\n",
    "    axes[i].set_xlabel('Churn')\n",
    "    axes[i].set_ylabel(feature)\n",
    "\n",
    "plt.tight_layout()\n",
    "plt.show()"
   ]
  },
  {
   "cell_type": "markdown",
   "metadata": {},
   "source": [
    "- Differences in **Night minutes**, **calls**, and **charges** between churned and non-churned users are **minimal**.\n",
    "\n",
    "Nighttime usage does **not appear to be a strong indicator** of churn."
   ]
  },
  {
   "cell_type": "markdown",
   "metadata": {},
   "source": [
    "#### Total intl minutes, calls, and charge by Churn"
   ]
  },
  {
   "cell_type": "code",
   "execution_count": 30,
   "metadata": {},
   "outputs": [
    {
     "data": {
      "image/png": "[encoded data removed]",
      "text/plain": [
       "<Figure size 1800x500 with 3 Axes>"
      ]
     },
     "metadata": {},
     "output_type": "display_data"
    }
   ],
   "source": [
    "features = ['Total intl minutes', 'Total intl calls', 'Total intl charge']\n",
    "fig, axes = plt.subplots(nrows=1, ncols=3, figsize=(18, 5))\n",
    "\n",
    "for i, feature in enumerate(features):\n",
    "    sns.boxplot(x='Churn', y=feature, data=churn_train, ax=axes[i])\n",
    "    axes[i].set_title(f'{feature} by Churn')\n",
    "    axes[i].set_xlabel('Churn')\n",
    "    axes[i].set_ylabel(feature)\n",
    "\n",
    "plt.tight_layout()\n",
    "plt.show()"
   ]
  },
  {
   "cell_type": "markdown",
   "metadata": {},
   "source": [
    "**Churned customers** tend to:\n",
    "- Have **slightly higher international minutes and charges**.\n",
    "- Have **fewer international calls** on average.\n",
    "\n",
    "However, these differences are not as strong as seen in daytime usage.\n",
    "\n",
    "International usage shows a **light correlation with churn** but it can help identifying churn risk."
   ]
  },
  {
   "cell_type": "markdown",
   "metadata": {},
   "source": [
    "#### International plan, Voice mail plan, and Area code by Churn"
   ]
  },
  {
   "cell_type": "code",
   "execution_count": 31,
   "metadata": {},
   "outputs": [
    {
     "data": {
      "image/png": "[encoded data removed]",
      "text/plain": [
       "<Figure size 1800x500 with 3 Axes>"
      ]
     },
     "metadata": {},
     "output_type": "display_data"
    }
   ],
   "source": [
    "features = ['International plan', 'Voice mail plan', 'Area code']\n",
    "fig, axes = plt.subplots(1, 3, figsize=(18, 5))\n",
    "\n",
    "for i, feature in enumerate(features):\n",
    "    ct = pd.crosstab(churn_train[feature], churn_train['Churn'], normalize='index') * 100\n",
    "    ax = ct.plot(kind='bar', stacked=True, ax=axes[i], legend=False)\n",
    "    ax.set_title(f'Churn by {feature}')\n",
    "    ax.set_ylabel('% of Customers')\n",
    "    ax.set_xlabel(feature)\n",
    "    \n",
    "    # Add percentage labels\n",
    "    for container in ax.containers:\n",
    "        ax.bar_label(container, fmt='%.1f%%', label_type='center')\n",
    "\n",
    "plt.tight_layout()\n",
    "plt.legend(title='Churn', bbox_to_anchor=(1.05, 1), loc='upper left')\n",
    "plt.show()"
   ]
  },
  {
   "cell_type": "markdown",
   "metadata": {},
   "source": [
    "- Customers **with an International Plan** churn much more than those without this plan (43.7% vs 11.3%). This is a **strong churn predictor**.\n",
    "- Customers **with a Voicemail Plan** churn less than those without this plan (8.9% vs 16.7%), indicating that the Voice mail plan can sitisfy them. This is a mild churn predictor.\n",
    "- **Area Code** shows **no significant difference** in churn rates. Therefore we can expect little to no geographic influence in churn."
   ]
  },
  {
   "cell_type": "markdown",
   "metadata": {},
   "source": [
    "#### State by Churn "
   ]
  },
  {
   "cell_type": "code",
   "execution_count": null,
   "metadata": {},
   "outputs": [],
   "source": [
    "def bar_plots(top10, bottom10, y_name):\n",
    "    # function to plot the State Bar Graphs\n",
    "    \n",
    "    fig, axes = plt.subplots(1, 2, figsize=(12, 3))\n",
    "\n",
    "    # top 10\n",
    "    top10.plot(kind='bar', ax=axes[0], color='mediumturquoise')\n",
    "    axes[0].set_title('Top 10 States by ' + y_name)\n",
    "    axes[0].set_ylabel(y_name)\n",
    "    axes[0].set_ylim(0, 100)\n",
    "    if y_name == 'Churn_Rate':\n",
    "        axes[0].bar_label(axes[0].containers[0], fmt='%.1f%%', padding=3)\n",
    "    else:\n",
    "        axes[0].bar_label(axes[0].containers[0], padding=3)\n",
    "\n",
    "    # bottom 10\n",
    "    bottom10.plot(kind='bar', ax=axes[1], color='mediumturquoise')\n",
    "    axes[1].set_title('Bottom 10 States by ' + y_name)\n",
    "    axes[1].set_ylabel(y_name)\n",
    "    axes[1].set_ylim(0, 100)\n",
    "    if y_name == 'Churn_Rate':\n",
    "        axes[1].bar_label(axes[1].containers[0], fmt='%.1f%%', padding=3)\n",
    "    else:\n",
    "        axes[1].bar_label(axes[1].containers[0], padding=3)\n",
    "    \n",
    "    plt.tight_layout()\n",
    "    plt.show()"
   ]
  },
  {
   "cell_type": "code",
   "execution_count": null,
   "metadata": {},
   "outputs": [],
   "source": [
    "# Count of customers per state (absolute)\n",
    "state_counts = churn_train['State'].value_counts()\n",
    "\n",
    "# Churn rate by state\n",
    "state_churn = churn_train.groupby('State')['Churn'].mean() * 100\n",
    "\n",
    "# Combine\n",
    "state_summary = pd.DataFrame({\n",
    "    'Churn Rate (%)': state_churn.round(1),\n",
    "    'Customer Count': state_counts\n",
    "})\n",
    "\n",
    "# Sort and filter\n",
    "top10 = state_summary.sort_values(by='Churn Rate (%)', ascending=False).head(10)\n",
    "bottom10 = state_summary.sort_values(by='Churn Rate (%)', ascending=False).tail(10)\n",
    "\n",
    "# Combine both for one table\n",
    "combined = pd.concat([top10, bottom10]).reset_index().rename(columns={'index': 'State'})"
   ]
  },
  {
   "cell_type": "code",
   "execution_count": null,
   "metadata": {},
   "outputs": [
    {
     "data": {
      "image/png": "[encoded data removed]",
      "text/plain": [
       "<Figure size 1200x300 with 2 Axes>"
      ]
     },
     "metadata": {},
     "output_type": "display_data"
    },
    {
     "data": {
      "image/png": "[encoded data removed]",
      "text/plain": [
       "<Figure size 1200x300 with 2 Axes>"
      ]
     },
     "metadata": {},
     "output_type": "display_data"
    }
   ],
   "source": [
    "# Churn Rate plot\n",
    "bar_plots(top10.drop('Customer Count', axis=1), bottom10.drop('Customer Count', axis=1), 'Churn Rate')\n",
    "\n",
    "# Customer Count plot\n",
    "bar_plots(top10.drop('Churn Rate (%)', axis=1), bottom10.drop('Churn Rate (%)', axis=1), 'Customer Count')"
   ]
  },
  {
   "cell_type": "markdown",
   "metadata": {},
   "source": [
    "- Churn rates vary significantly by state, from **4.5% (HI)** to **29.1% (TX)**.\n",
    "- Top churn states include **TX, NJ, AR, and MD**, all above 23%. They have **moderate customer counts**, suggesting trustworthy risk areas.\n",
    "- **WV** has the **largest customer base (88 customers)** and a churn rate of just **8.0%**, a probable outlier.\n",
    "-**HI**, **IA** and **LA** have low churn rate, but they have **fewer than 45 customers**, making their results statistically weaker."
   ]
  },
  {
   "cell_type": "markdown",
   "metadata": {},
   "source": [
    "## Key Findings\n",
    "\n",
    "- Customers with an **international plan** are significantly more likely to churn (**43.7% vs. 11.3%**).\n",
    "- High **daytime usage** (minutes and charges) is strongly associated with churn, unlike evening or night usage.\n",
    "- Customers who **contact customer service frequently** are more likely to churn, a possible signal of dissatisfaction.\n",
    "- **Voicemail plan users** churn less, suggesting deeper engagement with services.\n",
    "- **State-level churn rates** vary widely (4.5% to 29.1%), but are more meaningful when combined with customer volume. For example, **TX and MD** show both high churn and strong representation.\n",
    "\n",
    "## Next Steps\n",
    "\n",
    "- Perform **feature engineering**.\n",
    "- Train, evaluate, and interpret a **classification model** to predict churn.\n",
    "- Suggest **retention strategies** for high-risk customers."
   ]
  }
 ],
 "metadata": {
  "kernelspec": {
   "display_name": "base",
   "language": "python",
   "name": "python3"
  },
  "language_info": {
   "codemirror_mode": {
    "name": "ipython",
    "version": 3
   },
   "file_extension": ".py",
   "mimetype": "text/x-python",
   "name": "python",
   "nbconvert_exporter": "python",
   "pygments_lexer": "ipython3",
   "version": "3.11.5"
  }
 },
 "nbformat": 4,
 "nbformat_minor": 2
}
